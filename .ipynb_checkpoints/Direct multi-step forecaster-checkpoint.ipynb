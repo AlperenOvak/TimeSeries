{
 "cells": [
  {
   "cell_type": "code",
   "execution_count": 3,
   "id": "f9abd264",
   "metadata": {},
   "outputs": [],
   "source": [
    "# Libraries\n",
    "# ==============================================================================\n",
    "import numpy as np\n",
    "import pandas as pd\n",
    "import matplotlib.pyplot as plt\n",
    "from skforecast.ForecasterAutoregDirect import ForecasterAutoregDirect\n",
    "from sklearn.linear_model import Ridge\n",
    "from sklearn.metrics import mean_squared_error"
   ]
  },
  {
   "cell_type": "code",
   "execution_count": 2,
   "id": "3f15436d",
   "metadata": {},
   "outputs": [
    {
     "name": "stdout",
     "output_type": "stream",
     "text": [
      "Collecting skforecast\n",
      "  Obtaining dependency information for skforecast from https://files.pythonhosted.org/packages/47/c8/78f5790b1b6b6900709fb204e28966e0b1c8d7659c780bd37ccc19d7fd2e/skforecast-0.11.0-py3-none-any.whl.metadata\n",
      "  Downloading skforecast-0.11.0-py3-none-any.whl.metadata (21 kB)\n",
      "Requirement already satisfied: numpy<1.27,>=1.20 in c:\\users\\ovak\\anaconda3\\envs\\tf_cpu\\lib\\site-packages (from skforecast) (1.24.4)\n",
      "Requirement already satisfied: pandas<2.2,>=1.2 in c:\\users\\ovak\\anaconda3\\envs\\tf_cpu\\lib\\site-packages (from skforecast) (1.5.3)\n",
      "Collecting tqdm<4.67,>=4.57.0 (from skforecast)\n",
      "  Obtaining dependency information for tqdm<4.67,>=4.57.0 from https://files.pythonhosted.org/packages/2a/14/e75e52d521442e2fcc9f1df3c5e456aead034203d4797867980de558ab34/tqdm-4.66.2-py3-none-any.whl.metadata\n",
      "  Downloading tqdm-4.66.2-py3-none-any.whl.metadata (57 kB)\n",
      "     ---------------------------------------- 0.0/57.6 kB ? eta -:--:--\n",
      "     ------- -------------------------------- 10.2/57.6 kB ? eta -:--:--\n",
      "     --------------------------------- ---- 51.2/57.6 kB 650.2 kB/s eta 0:00:01\n",
      "     -------------------------------------- 57.6/57.6 kB 607.0 kB/s eta 0:00:00\n",
      "Requirement already satisfied: scikit-learn<1.4,>=1.0 in c:\\users\\ovak\\anaconda3\\envs\\tf_cpu\\lib\\site-packages (from skforecast) (1.2.2)\n",
      "Collecting optuna<3.5,>=2.10.0 (from skforecast)\n",
      "  Obtaining dependency information for optuna<3.5,>=2.10.0 from https://files.pythonhosted.org/packages/05/3c/e9715756751e56f7df4b64c999650f418f6b48f73a824bbfe8e3604385e2/optuna-3.4.0-py3-none-any.whl.metadata\n",
      "  Downloading optuna-3.4.0-py3-none-any.whl.metadata (17 kB)\n",
      "Collecting joblib<1.4,>=1.1.0 (from skforecast)\n",
      "  Obtaining dependency information for joblib<1.4,>=1.1.0 from https://files.pythonhosted.org/packages/10/40/d551139c85db202f1f384ba8bcf96aca2f329440a844f924c8a0040b6d02/joblib-1.3.2-py3-none-any.whl.metadata\n",
      "  Downloading joblib-1.3.2-py3-none-any.whl.metadata (5.4 kB)\n",
      "Collecting alembic>=1.5.0 (from optuna<3.5,>=2.10.0->skforecast)\n",
      "  Obtaining dependency information for alembic>=1.5.0 from https://files.pythonhosted.org/packages/7f/50/9fb3a5c80df6eb6516693270621676980acd6d5a9a7efdbfa273f8d616c7/alembic-1.13.1-py3-none-any.whl.metadata\n",
      "  Downloading alembic-1.13.1-py3-none-any.whl.metadata (7.4 kB)\n",
      "Collecting colorlog (from optuna<3.5,>=2.10.0->skforecast)\n",
      "  Obtaining dependency information for colorlog from https://files.pythonhosted.org/packages/f3/18/3e867ab37a24fdf073c1617b9c7830e06ec270b1ea4694a624038fc40a03/colorlog-6.8.2-py3-none-any.whl.metadata\n",
      "  Downloading colorlog-6.8.2-py3-none-any.whl.metadata (10 kB)\n",
      "Requirement already satisfied: packaging>=20.0 in c:\\users\\ovak\\anaconda3\\envs\\tf_cpu\\lib\\site-packages (from optuna<3.5,>=2.10.0->skforecast) (23.1)\n",
      "Collecting sqlalchemy>=1.3.0 (from optuna<3.5,>=2.10.0->skforecast)\n",
      "  Obtaining dependency information for sqlalchemy>=1.3.0 from https://files.pythonhosted.org/packages/83/34/e760f4e78b2aeb04a74ae7338f9c215570a256755ab0026336037ec8df75/SQLAlchemy-2.0.29-cp311-cp311-win_amd64.whl.metadata\n",
      "  Downloading SQLAlchemy-2.0.29-cp311-cp311-win_amd64.whl.metadata (9.8 kB)\n",
      "Collecting PyYAML (from optuna<3.5,>=2.10.0->skforecast)\n",
      "  Obtaining dependency information for PyYAML from https://files.pythonhosted.org/packages/b3/34/65bb4b2d7908044963ebf614fe0fdb080773fc7030d7e39c8d3eddcd4257/PyYAML-6.0.1-cp311-cp311-win_amd64.whl.metadata\n",
      "  Downloading PyYAML-6.0.1-cp311-cp311-win_amd64.whl.metadata (2.1 kB)\n",
      "Requirement already satisfied: python-dateutil>=2.8.1 in c:\\users\\ovak\\anaconda3\\envs\\tf_cpu\\lib\\site-packages (from pandas<2.2,>=1.2->skforecast) (2.8.2)\n",
      "Requirement already satisfied: pytz>=2020.1 in c:\\users\\ovak\\anaconda3\\envs\\tf_cpu\\lib\\site-packages (from pandas<2.2,>=1.2->skforecast) (2024.1)\n",
      "Requirement already satisfied: scipy>=1.3.2 in c:\\users\\ovak\\anaconda3\\envs\\tf_cpu\\lib\\site-packages (from scikit-learn<1.4,>=1.0->skforecast) (1.10.1)\n",
      "Requirement already satisfied: threadpoolctl>=2.0.0 in c:\\users\\ovak\\anaconda3\\envs\\tf_cpu\\lib\\site-packages (from scikit-learn<1.4,>=1.0->skforecast) (3.4.0)\n",
      "Requirement already satisfied: colorama in c:\\users\\ovak\\anaconda3\\envs\\tf_cpu\\lib\\site-packages (from tqdm<4.67,>=4.57.0->skforecast) (0.4.6)\n",
      "Collecting Mako (from alembic>=1.5.0->optuna<3.5,>=2.10.0->skforecast)\n",
      "  Obtaining dependency information for Mako from https://files.pythonhosted.org/packages/c6/c9/9cd84cbd5816aa8bee5fd5a00f857efd636ec30586848d571b67baf0b868/Mako-1.3.3-py3-none-any.whl.metadata\n",
      "  Downloading Mako-1.3.3-py3-none-any.whl.metadata (2.9 kB)\n",
      "Requirement already satisfied: typing-extensions>=4 in c:\\users\\ovak\\anaconda3\\envs\\tf_cpu\\lib\\site-packages (from alembic>=1.5.0->optuna<3.5,>=2.10.0->skforecast) (4.7.1)\n",
      "Requirement already satisfied: six>=1.5 in c:\\users\\ovak\\anaconda3\\envs\\tf_cpu\\lib\\site-packages (from python-dateutil>=2.8.1->pandas<2.2,>=1.2->skforecast) (1.16.0)\n",
      "Collecting greenlet!=0.4.17 (from sqlalchemy>=1.3.0->optuna<3.5,>=2.10.0->skforecast)\n",
      "  Obtaining dependency information for greenlet!=0.4.17 from https://files.pythonhosted.org/packages/47/79/26d54d7d700ef65b689fc2665a40846d13e834da0486674a8d4f0f371a47/greenlet-3.0.3-cp311-cp311-win_amd64.whl.metadata\n",
      "  Downloading greenlet-3.0.3-cp311-cp311-win_amd64.whl.metadata (3.9 kB)\n",
      "Requirement already satisfied: MarkupSafe>=0.9.2 in c:\\users\\ovak\\anaconda3\\envs\\tf_cpu\\lib\\site-packages (from Mako->alembic>=1.5.0->optuna<3.5,>=2.10.0->skforecast) (2.1.1)\n",
      "Downloading skforecast-0.11.0-py3-none-any.whl (424 kB)\n",
      "   ---------------------------------------- 0.0/424.8 kB ? eta -:--:--\n",
      "   --- ------------------------------------ 41.0/424.8 kB 2.0 MB/s eta 0:00:01\n",
      "   ---------- ----------------------------- 112.6/424.8 kB 1.3 MB/s eta 0:00:01\n",
      "   ---------------- ----------------------- 174.1/424.8 kB 1.3 MB/s eta 0:00:01\n",
      "   ---------------------- ----------------- 235.5/424.8 kB 1.2 MB/s eta 0:00:01\n",
      "   -------------------------- ------------- 286.7/424.8 kB 1.2 MB/s eta 0:00:01\n",
      "   ---------------------------- ----------- 307.2/424.8 kB 1.2 MB/s eta 0:00:01\n",
      "   ----------------------------------- ---- 378.9/424.8 kB 1.2 MB/s eta 0:00:01\n",
      "   ---------------------------------------- 424.8/424.8 kB 1.2 MB/s eta 0:00:00\n",
      "Downloading joblib-1.3.2-py3-none-any.whl (302 kB)\n",
      "   ---------------------------------------- 0.0/302.2 kB ? eta -:--:--\n",
      "   ----- ---------------------------------- 41.0/302.2 kB 1.9 MB/s eta 0:00:01\n",
      "   -------------- ------------------------- 112.6/302.2 kB 1.6 MB/s eta 0:00:01\n",
      "   ----------------------- ---------------- 174.1/302.2 kB 1.3 MB/s eta 0:00:01\n",
      "   ------------------------------- -------- 235.5/302.2 kB 1.2 MB/s eta 0:00:01\n",
      "   ------------------------------------- -- 286.7/302.2 kB 1.2 MB/s eta 0:00:01\n",
      "   ---------------------------------------- 302.2/302.2 kB 1.2 MB/s eta 0:00:00\n",
      "Downloading optuna-3.4.0-py3-none-any.whl (409 kB)\n",
      "   ---------------------------------------- 0.0/409.6 kB ? eta -:--:--\n",
      "   ---- ----------------------------------- 41.0/409.6 kB ? eta -:--:--\n",
      "   ----------- ---------------------------- 112.6/409.6 kB 1.7 MB/s eta 0:00:01\n",
      "   ----------------- ---------------------- 174.1/409.6 kB 1.3 MB/s eta 0:00:01\n",
      "   -------------------- ------------------- 204.8/409.6 kB 1.1 MB/s eta 0:00:01\n",
      "   ----------------------- ---------------- 235.5/409.6 kB 1.1 MB/s eta 0:00:01\n",
      "   ----------------------- -------------- 256.0/409.6 kB 983.0 kB/s eta 0:00:01\n",
      "   ------------------------------ --------- 307.2/409.6 kB 1.1 MB/s eta 0:00:01\n",
      "   ------------------------------- ------ 337.9/409.6 kB 912.8 kB/s eta 0:00:01\n",
      "   ---------------------------------- --- 368.6/409.6 kB 998.3 kB/s eta 0:00:01\n",
      "   -------------------------------------- 409.6/409.6 kB 946.3 kB/s eta 0:00:00\n",
      "Downloading tqdm-4.66.2-py3-none-any.whl (78 kB)\n",
      "   ---------------------------------------- 0.0/78.3 kB ? eta -:--:--\n",
      "   -------------------- ------------------- 41.0/78.3 kB 1.9 MB/s eta 0:00:01\n",
      "   ---------------------------------------- 78.3/78.3 kB 1.1 MB/s eta 0:00:00\n",
      "Downloading alembic-1.13.1-py3-none-any.whl (233 kB)\n",
      "   ---------------------------------------- 0.0/233.4 kB ? eta -:--:--\n",
      "   ------- -------------------------------- 41.0/233.4 kB 1.9 MB/s eta 0:00:01\n",
      "   ------------------- -------------------- 112.6/233.4 kB 1.6 MB/s eta 0:00:01\n",
      "   ----------------------------- ---------- 174.1/233.4 kB 1.3 MB/s eta 0:00:01\n",
      "   ---------------------------------------- 233.4/233.4 kB 1.3 MB/s eta 0:00:00\n",
      "Downloading SQLAlchemy-2.0.29-cp311-cp311-win_amd64.whl (2.1 MB)\n",
      "   ---------------------------------------- 0.0/2.1 MB ? eta -:--:--\n",
      "    --------------------------------------- 0.0/2.1 MB 1.9 MB/s eta 0:00:02\n",
      "   -- ------------------------------------- 0.1/2.1 MB 1.3 MB/s eta 0:00:02\n",
      "   --- ------------------------------------ 0.2/2.1 MB 1.3 MB/s eta 0:00:02\n",
      "   ---- ----------------------------------- 0.2/2.1 MB 1.3 MB/s eta 0:00:02\n",
      "   ----- ---------------------------------- 0.3/2.1 MB 1.2 MB/s eta 0:00:02\n",
      "   ------ --------------------------------- 0.3/2.1 MB 1.2 MB/s eta 0:00:02\n",
      "   ------- -------------------------------- 0.4/2.1 MB 1.2 MB/s eta 0:00:02\n",
      "   -------- ------------------------------- 0.4/2.1 MB 1.2 MB/s eta 0:00:02\n",
      "   --------- ------------------------------ 0.5/2.1 MB 1.2 MB/s eta 0:00:02\n",
      "   ---------- ----------------------------- 0.6/2.1 MB 1.2 MB/s eta 0:00:02\n",
      "   ----------- ---------------------------- 0.6/2.1 MB 1.2 MB/s eta 0:00:02\n",
      "   ------------ --------------------------- 0.6/2.1 MB 1.2 MB/s eta 0:00:02\n",
      "   ------------- -------------------------- 0.7/2.1 MB 1.2 MB/s eta 0:00:02\n",
      "   -------------- ------------------------- 0.8/2.1 MB 1.2 MB/s eta 0:00:02\n",
      "   --------------- ------------------------ 0.8/2.1 MB 1.2 MB/s eta 0:00:02\n",
      "   --------------- ------------------------ 0.8/2.1 MB 1.2 MB/s eta 0:00:02\n",
      "   ----------------- ---------------------- 0.9/2.1 MB 1.1 MB/s eta 0:00:02\n",
      "   ----------------- ---------------------- 0.9/2.1 MB 1.1 MB/s eta 0:00:02\n",
      "   ------------------ --------------------- 1.0/2.1 MB 1.1 MB/s eta 0:00:02\n",
      "   ------------------- -------------------- 1.0/2.1 MB 1.1 MB/s eta 0:00:01\n",
      "   -------------------- ------------------- 1.1/2.1 MB 1.1 MB/s eta 0:00:01\n",
      "   --------------------- ------------------ 1.1/2.1 MB 1.1 MB/s eta 0:00:01\n",
      "   ---------------------- ----------------- 1.2/2.1 MB 1.1 MB/s eta 0:00:01\n",
      "   ----------------------- ---------------- 1.2/2.1 MB 1.1 MB/s eta 0:00:01\n",
      "   ------------------------ --------------- 1.3/2.1 MB 1.1 MB/s eta 0:00:01\n",
      "   ------------------------- -------------- 1.3/2.1 MB 1.1 MB/s eta 0:00:01\n",
      "   -------------------------- ------------- 1.4/2.1 MB 1.1 MB/s eta 0:00:01\n",
      "   --------------------------- ------------ 1.4/2.1 MB 1.1 MB/s eta 0:00:01\n",
      "   ----------------------------- ---------- 1.5/2.1 MB 1.1 MB/s eta 0:00:01\n",
      "   ----------------------------- ---------- 1.6/2.1 MB 1.1 MB/s eta 0:00:01\n",
      "   ------------------------------- -------- 1.6/2.1 MB 1.1 MB/s eta 0:00:01\n",
      "   ------------------------------- -------- 1.6/2.1 MB 1.1 MB/s eta 0:00:01\n",
      "   -------------------------------- ------- 1.7/2.1 MB 1.1 MB/s eta 0:00:01\n",
      "   --------------------------------- ------ 1.8/2.1 MB 1.1 MB/s eta 0:00:01\n",
      "   ---------------------------------- ----- 1.8/2.1 MB 1.1 MB/s eta 0:00:01\n",
      "   ------------------------------------ --- 1.9/2.1 MB 1.1 MB/s eta 0:00:01\n",
      "   ------------------------------------- -- 1.9/2.1 MB 1.1 MB/s eta 0:00:01\n",
      "   -------------------------------------- - 2.0/2.1 MB 1.1 MB/s eta 0:00:01\n",
      "   ---------------------------------------  2.0/2.1 MB 1.1 MB/s eta 0:00:01\n",
      "   ---------------------------------------- 2.1/2.1 MB 1.1 MB/s eta 0:00:00\n",
      "Downloading colorlog-6.8.2-py3-none-any.whl (11 kB)\n",
      "Downloading PyYAML-6.0.1-cp311-cp311-win_amd64.whl (144 kB)\n",
      "   ---------------------------------------- 0.0/144.7 kB ? eta -:--:--\n",
      "   ----------- ---------------------------- 41.0/144.7 kB 2.0 MB/s eta 0:00:01\n",
      "   ------------------------------- -------- 112.6/144.7 kB 1.3 MB/s eta 0:00:01\n",
      "   --------------------------------- ------ 122.9/144.7 kB 1.0 MB/s eta 0:00:01\n",
      "   -------------------------------------- 144.7/144.7 kB 960.4 kB/s eta 0:00:00\n",
      "Downloading greenlet-3.0.3-cp311-cp311-win_amd64.whl (292 kB)\n",
      "   ---------------------------------------- 0.0/292.8 kB ? eta -:--:--\n",
      "   ----- ---------------------------------- 41.0/292.8 kB 2.0 MB/s eta 0:00:01\n",
      "   ---------------- ----------------------- 122.9/292.8 kB 1.4 MB/s eta 0:00:01\n",
      "   ----------------------- ---------------- 174.1/292.8 kB 1.3 MB/s eta 0:00:01\n",
      "   --------------------------- ------------ 204.8/292.8 kB 1.1 MB/s eta 0:00:01\n",
      "   ---------------------------------- ----- 256.0/292.8 kB 1.2 MB/s eta 0:00:01\n",
      "   ---------------------------------------- 292.8/292.8 kB 1.2 MB/s eta 0:00:00\n",
      "Downloading Mako-1.3.3-py3-none-any.whl (78 kB)\n",
      "   ---------------------------------------- 0.0/78.8 kB ? eta -:--:--\n",
      "   -------------------- ------------------- 41.0/78.8 kB 1.9 MB/s eta 0:00:01\n",
      "   ---------------------------------------- 78.8/78.8 kB 1.1 MB/s eta 0:00:00\n",
      "Installing collected packages: tqdm, PyYAML, Mako, joblib, greenlet, colorlog, sqlalchemy, alembic, optuna, skforecast\n",
      "  Attempting uninstall: joblib\n",
      "    Found existing installation: joblib 1.4.0\n",
      "    Uninstalling joblib-1.4.0:\n",
      "      Successfully uninstalled joblib-1.4.0\n",
      "Successfully installed Mako-1.3.3 PyYAML-6.0.1 alembic-1.13.1 colorlog-6.8.2 greenlet-3.0.3 joblib-1.3.2 optuna-3.4.0 skforecast-0.11.0 sqlalchemy-2.0.29 tqdm-4.66.2\n"
     ]
    }
   ],
   "source": [
    "!pip install skforecast"
   ]
  },
  {
   "cell_type": "code",
   "execution_count": 34,
   "id": "4c03744e",
   "metadata": {},
   "outputs": [
    {
     "name": "stdout",
     "output_type": "stream",
     "text": [
      "Missing values:\n",
      " date     0\n",
      "open     0\n",
      "high     0\n",
      "low      0\n",
      "close    0\n",
      "dtype: int64\n"
     ]
    },
    {
     "data": {
      "text/html": [
       "<div>\n",
       "<style scoped>\n",
       "    .dataframe tbody tr th:only-of-type {\n",
       "        vertical-align: middle;\n",
       "    }\n",
       "\n",
       "    .dataframe tbody tr th {\n",
       "        vertical-align: top;\n",
       "    }\n",
       "\n",
       "    .dataframe thead th {\n",
       "        text-align: right;\n",
       "    }\n",
       "</style>\n",
       "<table border=\"1\" class=\"dataframe\">\n",
       "  <thead>\n",
       "    <tr style=\"text-align: right;\">\n",
       "      <th></th>\n",
       "      <th>date</th>\n",
       "      <th>open</th>\n",
       "      <th>high</th>\n",
       "      <th>low</th>\n",
       "      <th>close</th>\n",
       "    </tr>\n",
       "  </thead>\n",
       "  <tbody>\n",
       "    <tr>\n",
       "      <th>0</th>\n",
       "      <td>1.355339e+12</td>\n",
       "      <td>17228.824675</td>\n",
       "      <td>17266.976623</td>\n",
       "      <td>17197.903896</td>\n",
       "      <td>17233.532468</td>\n",
       "    </tr>\n",
       "    <tr>\n",
       "      <th>1</th>\n",
       "      <td>1.355342e+12</td>\n",
       "      <td>17236.884416</td>\n",
       "      <td>17255.527273</td>\n",
       "      <td>17200.766234</td>\n",
       "      <td>17249.501299</td>\n",
       "    </tr>\n",
       "    <tr>\n",
       "      <th>2</th>\n",
       "      <td>1.355346e+12</td>\n",
       "      <td>17244.228571</td>\n",
       "      <td>17221.970130</td>\n",
       "      <td>17038.629870</td>\n",
       "      <td>17198.770130</td>\n",
       "    </tr>\n",
       "    <tr>\n",
       "      <th>3</th>\n",
       "      <td>1.355350e+12</td>\n",
       "      <td>17148.867532</td>\n",
       "      <td>17188.412987</td>\n",
       "      <td>17091.357143</td>\n",
       "      <td>17148.038961</td>\n",
       "    </tr>\n",
       "    <tr>\n",
       "      <th>4</th>\n",
       "      <td>1.355353e+12</td>\n",
       "      <td>17138.811688</td>\n",
       "      <td>17138.811688</td>\n",
       "      <td>16916.716883</td>\n",
       "      <td>16923.533766</td>\n",
       "    </tr>\n",
       "    <tr>\n",
       "      <th>...</th>\n",
       "      <td>...</td>\n",
       "      <td>...</td>\n",
       "      <td>...</td>\n",
       "      <td>...</td>\n",
       "      <td>...</td>\n",
       "    </tr>\n",
       "    <tr>\n",
       "      <th>11508</th>\n",
       "      <td>1.417363e+12</td>\n",
       "      <td>25379.737922</td>\n",
       "      <td>25404.881299</td>\n",
       "      <td>25213.522727</td>\n",
       "      <td>25238.843117</td>\n",
       "    </tr>\n",
       "    <tr>\n",
       "      <th>11509</th>\n",
       "      <td>1.417367e+12</td>\n",
       "      <td>25234.289740</td>\n",
       "      <td>25399.130260</td>\n",
       "      <td>25187.833247</td>\n",
       "      <td>25214.569740</td>\n",
       "    </tr>\n",
       "    <tr>\n",
       "      <th>11510</th>\n",
       "      <td>1.417370e+12</td>\n",
       "      <td>25220.188961</td>\n",
       "      <td>25377.391558</td>\n",
       "      <td>25220.188961</td>\n",
       "      <td>25373.501039</td>\n",
       "    </tr>\n",
       "    <tr>\n",
       "      <th>11511</th>\n",
       "      <td>1.417378e+12</td>\n",
       "      <td>25459.555714</td>\n",
       "      <td>25507.142078</td>\n",
       "      <td>25337.458182</td>\n",
       "      <td>25494.310519</td>\n",
       "    </tr>\n",
       "    <tr>\n",
       "      <th>11512</th>\n",
       "      <td>1.417381e+12</td>\n",
       "      <td>25499.221688</td>\n",
       "      <td>25609.715455</td>\n",
       "      <td>25434.325714</td>\n",
       "      <td>25465.043117</td>\n",
       "    </tr>\n",
       "  </tbody>\n",
       "</table>\n",
       "<p>11513 rows × 5 columns</p>\n",
       "</div>"
      ],
      "text/plain": [
       "               date          open          high           low         close\n",
       "0      1.355339e+12  17228.824675  17266.976623  17197.903896  17233.532468\n",
       "1      1.355342e+12  17236.884416  17255.527273  17200.766234  17249.501299\n",
       "2      1.355346e+12  17244.228571  17221.970130  17038.629870  17198.770130\n",
       "3      1.355350e+12  17148.867532  17188.412987  17091.357143  17148.038961\n",
       "4      1.355353e+12  17138.811688  17138.811688  16916.716883  16923.533766\n",
       "...             ...           ...           ...           ...           ...\n",
       "11508  1.417363e+12  25379.737922  25404.881299  25213.522727  25238.843117\n",
       "11509  1.417367e+12  25234.289740  25399.130260  25187.833247  25214.569740\n",
       "11510  1.417370e+12  25220.188961  25377.391558  25220.188961  25373.501039\n",
       "11511  1.417378e+12  25459.555714  25507.142078  25337.458182  25494.310519\n",
       "11512  1.417381e+12  25499.221688  25609.715455  25434.325714  25465.043117\n",
       "\n",
       "[11513 rows x 5 columns]"
      ]
     },
     "execution_count": 34,
     "metadata": {},
     "output_type": "execute_result"
    }
   ],
   "source": [
    "data = pd.read_csv('zzc_ail.csv')\n",
    "data['date'] = data['date'].str.replace('\"', '').astype(float)\n",
    "data['open'] = data['open'].str.replace('\"', '').astype(float)\n",
    "data['high'] = data['high'].str.replace('\"', '').astype(float)\n",
    "data['low'] = data['low'].str.replace('\"', '').astype(float)\n",
    "data['close'] = data['close'].str.replace('\"', '').astype(float)\n",
    "data.interpolate(method='linear', inplace=True) # IMPUTATION \n",
    "missing_values = data.isnull().sum()\n",
    "print(\"Missing values:\\n\", missing_values)\n",
    "data\n",
    "\n"
   ]
  },
  {
   "cell_type": "code",
   "execution_count": 35,
   "id": "df3315e8",
   "metadata": {},
   "outputs": [],
   "source": [
    "data = data.set_index('date')\n",
    "data = data['open']"
   ]
  },
  {
   "cell_type": "code",
   "execution_count": 44,
   "id": "d8c62495",
   "metadata": {},
   "outputs": [
    {
     "data": {
      "text/plain": [
       "date\n",
       "1.355339e+12    17228.824675\n",
       "1.355342e+12    17236.884416\n",
       "1.355346e+12    17244.228571\n",
       "1.355350e+12    17148.867532\n",
       "1.355353e+12    17138.811688\n",
       "                    ...     \n",
       "1.417363e+12    25379.737922\n",
       "1.417367e+12    25234.289740\n",
       "1.417370e+12    25220.188961\n",
       "1.417378e+12    25459.555714\n",
       "1.417381e+12    25499.221688\n",
       "Name: open, Length: 11513, dtype: float64"
      ]
     },
     "execution_count": 44,
     "metadata": {},
     "output_type": "execute_result"
    }
   ],
   "source": [
    "data"
   ]
  },
  {
   "cell_type": "code",
   "execution_count": 49,
   "id": "0b798cbb",
   "metadata": {},
   "outputs": [
    {
     "data": {
      "text/plain": [
       "9513"
      ]
     },
     "execution_count": 49,
     "metadata": {},
     "output_type": "execute_result"
    }
   ],
   "source": [
    "steps = 2000\n",
    "data_train = data.iloc[:-steps]\n",
    "data_test  = data.iloc[-steps:]\n",
    "\n",
    "len(data_train)"
   ]
  },
  {
   "cell_type": "code",
   "execution_count": 50,
   "id": "8280ef0d",
   "metadata": {},
   "outputs": [
    {
     "data": {
      "image/png": "[encoded data removed]",
      "text/plain": [
       "<Figure size 600x300 with 1 Axes>"
      ]
     },
     "metadata": {},
     "output_type": "display_data"
    }
   ],
   "source": [
    "fig, ax = plt.subplots(figsize=(6, 3))\n",
    "data_train.plot(ax=ax, label='train')\n",
    "data_test.plot(ax=ax, label='test')\n",
    "ax.legend();"
   ]
  },
  {
   "cell_type": "code",
   "execution_count": 51,
   "id": "04ed502a",
   "metadata": {},
   "outputs": [
    {
     "name": "stderr",
     "output_type": "stream",
     "text": [
      "C:\\Users\\OVAK\\anaconda3\\envs\\tf_cpu\\Lib\\site-packages\\skforecast\\utils\\utils.py:815: UserWarning: `y` has no DatetimeIndex nor RangeIndex index. Index is overwritten with a RangeIndex.\n",
      "  warnings.warn(\n",
      "C:\\Users\\OVAK\\anaconda3\\envs\\tf_cpu\\Lib\\site-packages\\skforecast\\utils\\utils.py:815: UserWarning: `y` has no DatetimeIndex nor RangeIndex index. Index is overwritten with a RangeIndex.\n",
      "  warnings.warn(\n"
     ]
    },
    {
     "data": {
      "text/plain": [
       "======================= \n",
       "ForecasterAutoregDirect \n",
       "======================= \n",
       "Regressor: Ridge() \n",
       "Lags: [ 1  2  3  4  5  6  7  8  9 10 11 12 13 14 15] \n",
       "Transformer for y: None \n",
       "Transformer for exog: None \n",
       "Weight function included: False \n",
       "Window size: 15 \n",
       "Maximum steps predicted: 36 \n",
       "Exogenous included: False \n",
       "Type of exogenous variable: None \n",
       "Exogenous variables names: None \n",
       "Training range: [0, 9512] \n",
       "Training index type: RangeIndex \n",
       "Training index frequency: 1 \n",
       "Regressor parameters: {'alpha': 1.0, 'copy_X': True, 'fit_intercept': True, 'max_iter': None, 'positive': False, 'random_state': None, 'solver': 'auto', 'tol': 0.0001} \n",
       "fit_kwargs: {} \n",
       "Creation date: 2024-05-01 13:45:05 \n",
       "Last fit date: 2024-05-01 13:45:05 \n",
       "Skforecast version: 0.11.0 \n",
       "Python version: 3.11.5 \n",
       "Forecaster id: None "
      ]
     },
     "execution_count": 51,
     "metadata": {},
     "output_type": "execute_result"
    }
   ],
   "source": [
    "forecaster = ForecasterAutoregDirect(\n",
    "                 regressor     = Ridge(),\n",
    "                 steps         = 36,\n",
    "                 lags          = 15,\n",
    "                 transformer_y = None,\n",
    "                 n_jobs        = 'auto'\n",
    "             )\n",
    "\n",
    "forecaster.fit(y=data_train)\n",
    "forecaster"
   ]
  },
  {
   "cell_type": "code",
   "execution_count": 52,
   "id": "6adf8790",
   "metadata": {},
   "outputs": [
    {
     "name": "stderr",
     "output_type": "stream",
     "text": [
      "C:\\Users\\OVAK\\anaconda3\\envs\\tf_cpu\\Lib\\site-packages\\skforecast\\utils\\utils.py:877: UserWarning: `last_window` has no DatetimeIndex nor RangeIndex index. Index is overwritten with a RangeIndex.\n",
      "  warnings.warn(\n"
     ]
    },
    {
     "data": {
      "text/plain": [
       "15    14223.561008\n",
       "19    14227.538897\n",
       "Name: pred, dtype: float64"
      ]
     },
     "metadata": {},
     "output_type": "display_data"
    }
   ],
   "source": [
    "predictions = forecaster.predict(steps=[1, 5])\n",
    "display(predictions)"
   ]
  },
  {
   "cell_type": "code",
   "execution_count": 53,
   "id": "0144f858",
   "metadata": {},
   "outputs": [
    {
     "name": "stderr",
     "output_type": "stream",
     "text": [
      "C:\\Users\\OVAK\\anaconda3\\envs\\tf_cpu\\Lib\\site-packages\\skforecast\\utils\\utils.py:877: UserWarning: `last_window` has no DatetimeIndex nor RangeIndex index. Index is overwritten with a RangeIndex.\n",
      "  warnings.warn(\n"
     ]
    },
    {
     "data": {
      "text/plain": [
       "15    14223.561008\n",
       "16    14229.489887\n",
       "17    14243.050819\n",
       "Name: pred, dtype: float64"
      ]
     },
     "metadata": {},
     "output_type": "display_data"
    }
   ],
   "source": [
    "predictions = forecaster.predict()\n",
    "display(predictions.head(3))"
   ]
  },
  {
   "cell_type": "code",
   "execution_count": 68,
   "id": "3229744a",
   "metadata": {},
   "outputs": [
    {
     "data": {
      "image/png": "[encoded data removed]",
      "text/plain": [
       "<Figure size 1200x600 with 1 Axes>"
      ]
     },
     "metadata": {},
     "output_type": "display_data"
    }
   ],
   "source": [
    "#fig, ax = plt.subplots(figsize=(6, 3))\n",
    "#data_train.plot(ax=ax, label='train')\n",
    "#data_test.values[:36].plot(ax=ax, label='test')\n",
    "#predictions.plot(ax=ax, label='predictions')\n",
    "#ax.legend();\n",
    "\n",
    "plt.figure(figsize=(12, 6), dpi=100)\n",
    "#plt.plot( data_test.values[0:36], label='Real')\n",
    "plt.plot( predictions, color='red', label='Predicted')\n",
    "\n",
    "plt.legend()\n",
    "plt.show()"
   ]
  },
  {
   "cell_type": "code",
   "execution_count": 18,
   "id": "fc439ca3",
   "metadata": {},
   "outputs": [
    {
     "data": {
      "text/html": [
       "<div>\n",
       "<style scoped>\n",
       "    .dataframe tbody tr th:only-of-type {\n",
       "        vertical-align: middle;\n",
       "    }\n",
       "\n",
       "    .dataframe tbody tr th {\n",
       "        vertical-align: top;\n",
       "    }\n",
       "\n",
       "    .dataframe thead th {\n",
       "        text-align: right;\n",
       "    }\n",
       "</style>\n",
       "<table border=\"1\" class=\"dataframe\">\n",
       "  <thead>\n",
       "    <tr style=\"text-align: right;\">\n",
       "      <th></th>\n",
       "      <th>y</th>\n",
       "    </tr>\n",
       "    <tr>\n",
       "      <th>datetime</th>\n",
       "      <th></th>\n",
       "    </tr>\n",
       "  </thead>\n",
       "  <tbody>\n",
       "    <tr>\n",
       "      <th>1991-07-01</th>\n",
       "      <td>0.429795</td>\n",
       "    </tr>\n",
       "    <tr>\n",
       "      <th>1991-08-01</th>\n",
       "      <td>0.400906</td>\n",
       "    </tr>\n",
       "    <tr>\n",
       "      <th>1991-09-01</th>\n",
       "      <td>0.432159</td>\n",
       "    </tr>\n",
       "    <tr>\n",
       "      <th>1991-10-01</th>\n",
       "      <td>0.492543</td>\n",
       "    </tr>\n",
       "    <tr>\n",
       "      <th>1991-11-01</th>\n",
       "      <td>0.502369</td>\n",
       "    </tr>\n",
       "    <tr>\n",
       "      <th>...</th>\n",
       "      <td>...</td>\n",
       "    </tr>\n",
       "    <tr>\n",
       "      <th>2008-02-01</th>\n",
       "      <td>0.761822</td>\n",
       "    </tr>\n",
       "    <tr>\n",
       "      <th>2008-03-01</th>\n",
       "      <td>0.649435</td>\n",
       "    </tr>\n",
       "    <tr>\n",
       "      <th>2008-04-01</th>\n",
       "      <td>0.827887</td>\n",
       "    </tr>\n",
       "    <tr>\n",
       "      <th>2008-05-01</th>\n",
       "      <td>0.816255</td>\n",
       "    </tr>\n",
       "    <tr>\n",
       "      <th>2008-06-01</th>\n",
       "      <td>0.762137</td>\n",
       "    </tr>\n",
       "  </tbody>\n",
       "</table>\n",
       "<p>204 rows × 1 columns</p>\n",
       "</div>"
      ],
      "text/plain": [
       "                   y\n",
       "datetime            \n",
       "1991-07-01  0.429795\n",
       "1991-08-01  0.400906\n",
       "1991-09-01  0.432159\n",
       "1991-10-01  0.492543\n",
       "1991-11-01  0.502369\n",
       "...              ...\n",
       "2008-02-01  0.761822\n",
       "2008-03-01  0.649435\n",
       "2008-04-01  0.827887\n",
       "2008-05-01  0.816255\n",
       "2008-06-01  0.762137\n",
       "\n",
       "[204 rows x 1 columns]"
      ]
     },
     "execution_count": 18,
     "metadata": {},
     "output_type": "execute_result"
    }
   ],
   "source": [
    "url = (\n",
    "    'https://raw.githubusercontent.com/JoaquinAmatRodrigo/skforecast/master/'\n",
    "    'data/h2o.csv'\n",
    ")\n",
    "data = pd.read_csv(url, sep=',', header=0, names=['y', 'datetime'])\n",
    "data['datetime'] = pd.to_datetime(data['datetime'], format='%Y-%m-%d')\n",
    "data = data.set_index('datetime')\n",
    "data\n"
   ]
  },
  {
   "cell_type": "code",
   "execution_count": null,
   "id": "92b0043e",
   "metadata": {},
   "outputs": [],
   "source": []
  }
 ],
 "metadata": {
  "kernelspec": {
   "display_name": "Python 3 (ipykernel)",
   "language": "python",
   "name": "python3"
  },
  "language_info": {
   "codemirror_mode": {
    "name": "ipython",
    "version": 3
   },
   "file_extension": ".py",
   "mimetype": "text/x-python",
   "name": "python",
   "nbconvert_exporter": "python",
   "pygments_lexer": "ipython3",
   "version": "3.11.5"
  }
 },
 "nbformat": 4,
 "nbformat_minor": 5
}
